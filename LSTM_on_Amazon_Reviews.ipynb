{
 "cells": [
  {
   "cell_type": "markdown",
   "metadata": {},
   "source": [
    "# LSTM on Amazon reviews"
   ]
  },
  {
   "cell_type": "code",
   "execution_count": 1,
   "metadata": {},
   "outputs": [],
   "source": [
    "import sqlite3\n",
    "import numpy as np\n",
    "import pandas as pd\n",
    "import seaborn as sns\n",
    "import matplotlib.pyplot as plt"
   ]
  },
  {
   "cell_type": "markdown",
   "metadata": {},
   "source": [
    "# Load Data"
   ]
  },
  {
   "cell_type": "code",
   "execution_count": 43,
   "metadata": {},
   "outputs": [],
   "source": [
    "con =sqlite3.connect(r'C:\\Users\\Friend\\AI\\AI_datasets\\Amazon\\cleaned_database.sqlite')\n",
    "filtered_data  = pd.read_sql_query('SELECT * FROM Reviews WHERE Score != 3',con)\n",
    "filtered_data = filtered_data.drop('index',axis = 1)\n",
    "filtered_data['Score'] = filtered_data['Score'].map(lambda x: 1 if x == 'positive' else 0)\n",
    "filtered_data = filtered_data.sort_values('Time')"
   ]
  },
  {
   "cell_type": "code",
   "execution_count": 81,
   "metadata": {},
   "outputs": [
    {
     "data": {
      "text/plain": [
       "Index(['Id', 'ProductId', 'UserId', 'ProfileName', 'HelpfulnessNumerator',\n",
       "       'HelpfulnessDenominator', 'Score', 'Time', 'Summary', 'Text',\n",
       "       'CleanedText'],\n",
       "      dtype='object')"
      ]
     },
     "execution_count": 81,
     "metadata": {},
     "output_type": "execute_result"
    }
   ],
   "source": [
    "data = filtered_data.head(30000)\n",
    "data.columns"
   ]
  },
  {
   "cell_type": "code",
   "execution_count": 82,
   "metadata": {},
   "outputs": [
    {
     "name": "stdout",
     "output_type": "stream",
     "text": [
      "(21000,) (21000,) (9000,) (9000,)\n"
     ]
    }
   ],
   "source": [
    "from sklearn import cross_validation\n",
    "\n",
    "X_train, X_test, y_train, y_test = cross_validation.train_test_split(data['CleanedText'], data['Score'], test_size=0.3, random_state=0)\n",
    "print(X_train.shape,y_train.shape,X_test.shape,y_test.shape)"
   ]
  },
  {
   "cell_type": "markdown",
   "metadata": {},
   "source": [
    "# Convert Data into IMDB format"
   ]
  },
  {
   "cell_type": "code",
   "execution_count": 83,
   "metadata": {},
   "outputs": [],
   "source": [
    "from sklearn.feature_extraction.text import CountVectorizer\n",
    "\n",
    "vec = CountVectorizer().fit(X_train)\n",
    "bag_of_words = count_vect.transform(X_train)"
   ]
  },
  {
   "cell_type": "code",
   "execution_count": 84,
   "metadata": {},
   "outputs": [],
   "source": [
    "sum_words = bag_of_words.sum(axis=0)\n",
    "words_freq = [(word, sum_words[0, idx]) for word, idx in vec.vocabulary_.items()]\n",
    "words_freq_sort = sorted(words_freq, key = lambda x: x[1], reverse=True)"
   ]
  },
  {
   "cell_type": "code",
   "execution_count": 85,
   "metadata": {},
   "outputs": [],
   "source": [
    "words_order = [word for (word,idx) in words_freq_sort]\n",
    "check = words_order[0:4999]"
   ]
  },
  {
   "cell_type": "code",
   "execution_count": 86,
   "metadata": {},
   "outputs": [],
   "source": [
    "train_vectors = []\n",
    "for each_review in X_train:\n",
    "    rank_vector = [((check.index(word))+1) if word in check else  0 for word in each_review.split()]\n",
    "    train_vectors.append(rank_vector)"
   ]
  },
  {
   "cell_type": "code",
   "execution_count": 87,
   "metadata": {},
   "outputs": [],
   "source": [
    "test_vectors = []\n",
    "for each_review in X_test:\n",
    "    rank_vector = [((check.index(word))+1) if word in check else  0 for word in each_review.split()]\n",
    "    test_vectors.append(rank_vector)"
   ]
  },
  {
   "cell_type": "code",
   "execution_count": 88,
   "metadata": {},
   "outputs": [],
   "source": [
    "from keras.preprocessing import sequence\n",
    "max_review_length = 600\n",
    "X_train = sequence.pad_sequences(train_vectors, maxlen=max_review_length)\n",
    "X_test = sequence.pad_sequences(test_vectors, maxlen=max_review_length)"
   ]
  },
  {
   "cell_type": "markdown",
   "metadata": {},
   "source": [
    "# LSTM Model"
   ]
  },
  {
   "cell_type": "code",
   "execution_count": 89,
   "metadata": {},
   "outputs": [],
   "source": [
    "from keras.models import Sequential\n",
    "from keras.layers import Dense\n",
    "from keras.layers import LSTM\n",
    "from keras.layers.embeddings import Embedding\n",
    "from keras.preprocessing import sequence"
   ]
  },
  {
   "cell_type": "code",
   "execution_count": 90,
   "metadata": {},
   "outputs": [],
   "source": [
    "top_words = 5000"
   ]
  },
  {
   "cell_type": "markdown",
   "metadata": {},
   "source": [
    "# Single Layer"
   ]
  },
  {
   "cell_type": "code",
   "execution_count": 105,
   "metadata": {},
   "outputs": [
    {
     "name": "stdout",
     "output_type": "stream",
     "text": [
      "_________________________________________________________________\n",
      "Layer (type)                 Output Shape              Param #   \n",
      "=================================================================\n",
      "embedding_13 (Embedding)     (None, 600, 32)           160000    \n",
      "_________________________________________________________________\n",
      "lstm_21 (LSTM)               (None, 100)               53200     \n",
      "_________________________________________________________________\n",
      "dense_5 (Dense)              (None, 1)                 101       \n",
      "=================================================================\n",
      "Total params: 213,301\n",
      "Trainable params: 213,301\n",
      "Non-trainable params: 0\n",
      "_________________________________________________________________\n",
      "None\n"
     ]
    }
   ],
   "source": [
    "embedding_vecor_length = 32\n",
    "model = Sequential()\n",
    "model.add(Embedding(top_words, embedding_vecor_length, input_length=max_review_length))\n",
    "model.add(LSTM(100))\n",
    "model.add(Dense(1, activation='sigmoid'))\n",
    "model.compile(loss='binary_crossentropy', optimizer='adam', metrics=['accuracy'])\n",
    "print(model.summary())"
   ]
  },
  {
   "cell_type": "code",
   "execution_count": 106,
   "metadata": {},
   "outputs": [
    {
     "name": "stderr",
     "output_type": "stream",
     "text": [
      "C:\\Users\\Friend\\Anaconda3\\lib\\site-packages\\ipykernel_launcher.py:1: UserWarning: The `nb_epoch` argument in `fit` has been renamed `epochs`.\n",
      "  \"\"\"Entry point for launching an IPython kernel.\n"
     ]
    },
    {
     "name": "stdout",
     "output_type": "stream",
     "text": [
      "Epoch 1/10\n",
      "21000/21000 [==============================] - 331s 16ms/step - loss: 0.2755 - acc: 0.9033\n",
      "Epoch 2/10\n",
      "21000/21000 [==============================] - 334s 16ms/step - loss: 0.1756 - acc: 0.9339\n",
      "Epoch 3/10\n",
      "21000/21000 [==============================] - 353s 17ms/step - loss: 0.1443 - acc: 0.9469\n",
      "Epoch 4/10\n",
      "21000/21000 [==============================] - 369s 18ms/step - loss: 0.1245 - acc: 0.9550\n",
      "Epoch 5/10\n",
      "21000/21000 [==============================] - 493s 23ms/step - loss: 0.1138 - acc: 0.9602\n",
      "Epoch 6/10\n",
      "21000/21000 [==============================] - 592s 28ms/step - loss: 0.1048 - acc: 0.9641\n",
      "Epoch 7/10\n",
      "21000/21000 [==============================] - 474s 23ms/step - loss: 0.0956 - acc: 0.9678\n",
      "Epoch 8/10\n",
      "21000/21000 [==============================] - 369s 18ms/step - loss: 0.0851 - acc: 0.9722\n",
      "Epoch 9/10\n",
      "21000/21000 [==============================] - 368s 18ms/step - loss: 0.0762 - acc: 0.9759\n",
      "Epoch 10/10\n",
      "21000/21000 [==============================] - 370s 18ms/step - loss: 0.0675 - acc: 0.9790\n",
      "Accuracy: 92.47%\n"
     ]
    }
   ],
   "source": [
    "model.fit(X_train, y_train, nb_epoch=10, batch_size=64)\n",
    "# Final evaluation of the model\n",
    "scores = model.evaluate(X_test, y_test, verbose=0)\n",
    "print(\"Accuracy: %.2f%%\" % (scores[1]*100))"
   ]
  },
  {
   "cell_type": "markdown",
   "metadata": {},
   "source": [
    "# Double LSTM Layer"
   ]
  },
  {
   "cell_type": "code",
   "execution_count": 103,
   "metadata": {},
   "outputs": [
    {
     "name": "stdout",
     "output_type": "stream",
     "text": [
      "_________________________________________________________________\n",
      "Layer (type)                 Output Shape              Param #   \n",
      "=================================================================\n",
      "embedding_12 (Embedding)     (None, 600, 32)           160000    \n",
      "_________________________________________________________________\n",
      "lstm_19 (LSTM)               (None, 600, 100)          53200     \n",
      "_________________________________________________________________\n",
      "lstm_20 (LSTM)               (None, 100)               80400     \n",
      "_________________________________________________________________\n",
      "dense_4 (Dense)              (None, 1)                 101       \n",
      "=================================================================\n",
      "Total params: 293,701\n",
      "Trainable params: 293,701\n",
      "Non-trainable params: 0\n",
      "_________________________________________________________________\n",
      "None\n"
     ]
    }
   ],
   "source": [
    "embedding_vecor_length = 32\n",
    "model = Sequential()\n",
    "model.add(Embedding(top_words, embedding_vecor_length, input_length=max_review_length))\n",
    "model.add(LSTM(100,return_sequences=True))\n",
    "model.add(LSTM(100))\n",
    "model.add(Dense(1, activation='sigmoid'))\n",
    "model.compile(loss='binary_crossentropy', optimizer='adam', metrics=['accuracy'])\n",
    "print(model.summary())"
   ]
  },
  {
   "cell_type": "code",
   "execution_count": 104,
   "metadata": {},
   "outputs": [
    {
     "name": "stderr",
     "output_type": "stream",
     "text": [
      "C:\\Users\\Friend\\Anaconda3\\lib\\site-packages\\ipykernel_launcher.py:1: UserWarning: The `nb_epoch` argument in `fit` has been renamed `epochs`.\n",
      "  \"\"\"Entry point for launching an IPython kernel.\n"
     ]
    },
    {
     "name": "stdout",
     "output_type": "stream",
     "text": [
      "Epoch 1/10\n",
      "21000/21000 [==============================] - 847s 40ms/step - loss: 0.2655 - acc: 0.9077\n",
      "Epoch 2/10\n",
      "21000/21000 [==============================] - 880s 42ms/step - loss: 0.1626 - acc: 0.9390\n",
      "Epoch 3/10\n",
      "21000/21000 [==============================] - 868s 41ms/step - loss: 0.1365 - acc: 0.9498\n",
      "Epoch 4/10\n",
      "21000/21000 [==============================] - 911s 43ms/step - loss: 0.1238 - acc: 0.9554\n",
      "Epoch 5/10\n",
      "21000/21000 [==============================] - 602s 29ms/step - loss: 0.1065 - acc: 0.9626\n",
      "Epoch 6/10\n",
      "21000/21000 [==============================] - 603s 29ms/step - loss: 0.0942 - acc: 0.9678\n",
      "Epoch 7/10\n",
      "21000/21000 [==============================] - 599s 29ms/step - loss: 0.0790 - acc: 0.9739\n",
      "Epoch 8/10\n",
      "21000/21000 [==============================] - 600s 29ms/step - loss: 0.0678 - acc: 0.9786\n",
      "Epoch 9/10\n",
      "21000/21000 [==============================] - 626s 30ms/step - loss: 0.0560 - acc: 0.9832\n",
      "Epoch 10/10\n",
      "21000/21000 [==============================] - 625s 30ms/step - loss: 0.0520 - acc: 0.9841\n",
      "Accuracy: 91.63%\n"
     ]
    }
   ],
   "source": [
    "model.fit(X_train, y_train, nb_epoch=10, batch_size=64)\n",
    "# Final evaluation of the model\n",
    "scores = model.evaluate(X_test, y_test, verbose=0)\n",
    "print(\"Accuracy: %.2f%%\" % (scores[1]*100))"
   ]
  }
 ],
 "metadata": {
  "kernelspec": {
   "display_name": "Python 3",
   "language": "python",
   "name": "python3"
  },
  "language_info": {
   "codemirror_mode": {
    "name": "ipython",
    "version": 3
   },
   "file_extension": ".py",
   "mimetype": "text/x-python",
   "name": "python",
   "nbconvert_exporter": "python",
   "pygments_lexer": "ipython3",
   "version": "3.6.5"
  }
 },
 "nbformat": 4,
 "nbformat_minor": 2
}
